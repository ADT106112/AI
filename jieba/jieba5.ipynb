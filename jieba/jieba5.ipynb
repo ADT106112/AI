{
 "cells": [
  {
   "cell_type": "code",
   "execution_count": 7,
   "metadata": {},
   "outputs": [
    {
     "name": "stderr",
     "output_type": "stream",
     "text": [
      "Building prefix dict from C:\\Users\\K410\\jieba\\dictionary\\dict.txt.big.txt ...\n",
      "Loading model from cache C:\\Users\\K410\\AppData\\Local\\Temp\\jieba.ube99933c6b4f3454496d715ffe583a74.cache\n",
      "Loading model cost 1.101 seconds.\n",
      "Prefix dict has been built succesfully.\n"
     ]
    },
    {
     "name": "stdout",
     "output_type": "stream",
     "text": [
      "停用詞:\"|;|，|,|。|來到\n",
      "去除停用:王運毅|國立臺中教育大學|數位系|就讀|學士\n",
      "預設模式:王運毅|，|來到|國立臺中教育大學|數位系|就讀|學士|。\n",
      "全文模式:王運毅|||來到|國立|國立臺中教育大學|臺中|教育|大學|數位|數位系|就讀|學士||\n",
      "搜尋引擎:王運毅|，|來到|國立|臺中|教育|大學|國立臺中教育大學|數位|數位系|就讀|學士|。\n"
     ]
    }
   ],
   "source": [
    "#encoding=utf-8\n",
    "import jieba\n",
    "\n",
    "jieba.set_dictionary('dictionary/dict.txt.big.txt')  \n",
    "jieba.load_userdict('dictionary/user_dic.txt')\n",
    "with open('dictionary/stop.txt', 'r', encoding='utf-8-sig') as file:\n",
    "    stops = file.read().split('\\n')\n",
    "print(\"停用詞:\"+'|' . join(stops))\n",
    "sentence = \"王運毅，來到國立臺中教育大學數位系就讀學士。\"\n",
    "\n",
    "jieba.add_word('數位系')\n",
    "\n",
    "breakword = jieba.cut(sentence, cut_all=False)\n",
    "final_words = []  \n",
    "for word in breakword:     \n",
    "    if word not in stops: \n",
    "        final_words.append(word)\n",
    "print(\"去除停用:\" + '|' . join(final_words))\n",
    "\n",
    "breakword = jieba.cut(sentence, cut_all=False)\n",
    "print(\"預設模式:\" + '|' . join(breakword))\n",
    "\n",
    "breakword = jieba.cut(sentence, cut_all=True)\n",
    "print(\"全文模式:\" + '|' . join(breakword))\n",
    "\n",
    "breakword = jieba.cut_for_search(sentence)\n",
    "print(\"搜尋引擎:\" + '|' . join(breakword))"
   ]
  },
  {
   "cell_type": "code",
   "execution_count": null,
   "metadata": {},
   "outputs": [],
   "source": []
  }
 ],
 "metadata": {
  "kernelspec": {
   "display_name": "Python 3",
   "language": "python",
   "name": "python3"
  },
  "language_info": {
   "codemirror_mode": {
    "name": "ipython",
    "version": 3
   },
   "file_extension": ".py",
   "mimetype": "text/x-python",
   "name": "python",
   "nbconvert_exporter": "python",
   "pygments_lexer": "ipython3",
   "version": "3.5.0"
  }
 },
 "nbformat": 4,
 "nbformat_minor": 2
}
